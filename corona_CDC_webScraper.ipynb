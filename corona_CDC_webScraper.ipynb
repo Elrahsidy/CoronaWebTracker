{
 "cells": [
  {
   "cell_type": "code",
   "execution_count": 1,
   "metadata": {},
   "outputs": [
    {
     "name": "stdout",
     "output_type": "stream",
     "text": [
      "Getching data from \n",
      "Date: 03/19/20\n",
      "Time EST: 22:43:34\n",
      "Total Confirmed cases: 10442\n",
      "Total Deaths: 150\n",
      "file exists\n",
      "       Date Time (EST) Confirmed Deaths\n",
      "0  03/18/20   23:41:09      7038     97\n",
      "1  03/19/20   22:43:34     10442    150\n"
     ]
    }
   ],
   "source": [
    "#Import Necessary libraries\n",
    "import requests\n",
    "from bs4 import BeautifulSoup\n",
    "import re\n",
    "from datetime import date\n",
    "import time\n",
    "import pandas as pd\n",
    "import os.path\n",
    "from os import path\n",
    "\n",
    "#Get date and the time of the request to cdc page\n",
    "current_date = date.today().strftime(\"%m/%d/%y\")\n",
    "print(\"Getching data from \")\n",
    "print(\"Date: \" + str(current_date))\n",
    "current_time = time.strftime(\"%H:%M:%S\", time.localtime())\n",
    "print(\"Time EST: \" + str(current_time))\n",
    "#Get all the contents of the website and parse into a Beautiful Soup Object\n",
    "page = requests.get(\"https://www.cdc.gov/coronavirus/2019-ncov/cases-updates/cases-in-us.html#2019coronavirus-summary\")\n",
    "soup = BeautifulSoup(page.content, 'html.parser')\n",
    " \n",
    "#Find the tags where number of cases and deaths are reproted\n",
    "links = soup.find_all('li')\n",
    "for link in links:\n",
    "    if link.find(text=re.compile(\"Total cases\")):\n",
    "        total = link\n",
    "    if link.find(text=re.compile(\"Total deaths\")):\n",
    "        deaths = link\n",
    "\n",
    "#Get the total number of cases        \n",
    "total = str(total)\n",
    "if \",\" in total:\n",
    "    total = total.replace(',' , '')\n",
    "Ntotal = re.findall(r\"[-+]?\\d*\\.\\d+|\\d+\", str(total))[0]\n",
    "print (\"Total Confirmed cases: \" + Ntotal)\n",
    "\n",
    "#Get the total number of deaths \n",
    "deaths= str(deaths)\n",
    "if \",\" in deaths:\n",
    "    deaths = deaths.replace(',' , '')\n",
    "Ndeath = re.findall(r\"[-+]?\\d*\\.\\d+|\\d+\", str(deaths))[0]\n",
    "print(\"Total Deaths: \" + Ndeath)\n",
    "\n",
    "\n",
    "\n",
    "#print(data.columns)\n",
    "#dfToAdd = pd.DataFrame([current_date],[current_time],[Ntotal],[Ndeath], columns = data.columns)\n",
    "if path.exists(\"CoronaCDCTImeSeries.csv\"):\n",
    "    print(\"file exists\")\n",
    "    data = pd.read_csv(\"CoronaCDCTImeSeries.csv\")\n",
    "    data = data.append({'Date' : current_date, 'Time (EST)' : current_time, 'Confirmed' : Ntotal, 'Deaths' : Ndeath} , ignore_index=True)\n",
    "    print(data)\n",
    "    data.to_csv (\"CoronaCDCTImeSeries.csv\", index = False, header=True)\n",
    "else: \n",
    "    df = pd.DataFrame({'Date' : [current_date], 'Time (EST)' : [current_time], 'Confirmed' : [Ntotal], 'Deaths' : [Ndeath]}) \n",
    "    print(df)\n",
    "    df.to_csv (\"CoronaCDCTImeSeries.csv\", index = False, header=True)\n",
    "    "
   ]
  },
  {
   "cell_type": "code",
   "execution_count": null,
   "metadata": {},
   "outputs": [],
   "source": []
  }
 ],
 "metadata": {
  "kernelspec": {
   "display_name": "Python 3",
   "language": "python",
   "name": "python3"
  },
  "language_info": {
   "codemirror_mode": {
    "name": "ipython",
    "version": 3
   },
   "file_extension": ".py",
   "mimetype": "text/x-python",
   "name": "python",
   "nbconvert_exporter": "python",
   "pygments_lexer": "ipython3",
   "version": "3.7.6"
  }
 },
 "nbformat": 4,
 "nbformat_minor": 4
}
